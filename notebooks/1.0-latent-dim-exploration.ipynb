{
 "cells": [
  {
   "cell_type": "code",
   "execution_count": 1,
   "id": "5935e716",
   "metadata": {},
   "outputs": [],
   "source": [
    "import sys\n",
    "from pathlib import Path\n",
    "from typing import List\n",
    "%config Completer.use_jedi = False # fix autocomplete nor working\n",
    "\n",
    "project_dir = Path('/home/al.thomas/sync/development/data2text/')\n",
    "sys.path.insert(0, str(project_dir))\n",
    "from hdfs_utils import copy_from_hdfs_to_local, copy_from_local_to_hdfs\n",
    "\n",
    "def copy_artifacts(run_id: str, source_dir: str, source_files: List[str]):\n",
    "    \"\"\"\n",
    "    run_id: mlflow run id\n",
    "    source_dir: name of the directory containing source files in mlflow artifacts directory (on hdfs)\n",
    "    source_files: files useful in this notebook (source files, config, etc)\n",
    "    \"\"\"\n",
    "    \n",
    "    # copy mlflow model checkpoints to local\n",
    "    artifact_path = f'viewfs:///user/al.thomas/mlflow_artifacts/{run_id}/artifacts'\n",
    "    checkpoints = []\n",
    "    checkpoints += copy_from_hdfs_to_local(artifact_path + '/t2g_model.ptXbest', str(project_dir / f'models/{run_id}'))\n",
    "    checkpoints += copy_from_hdfs_to_local(artifact_path + '/g2t_model.ptXbest', str(project_dir / f'models/{run_id}'))\n",
    "    print('Copied checkpoints:\\n' + '\\n'.join(checkpoints))\n",
    "\n",
    "    # copy source code used to train model to local\n",
    "    copied_files = []\n",
    "    for f in source_files:\n",
    "        copied_files += copy_from_hdfs_to_local(artifact_path + f'/{source_dir}/{f}', str(project_dir / f'models/{run_id}/artifact_code'))\n",
    "    print('Copied source files:\\n' + '\\n'.join(copied_files))\n",
    "    # and add the source code to python path\n",
    "    sys.path.insert(0, str(project_dir / f'models/{run_id}'))"
   ]
  },
  {
   "cell_type": "markdown",
   "id": "a19785af",
   "metadata": {},
   "source": [
    "# With original CycleGT code"
   ]
  },
  {
   "cell_type": "code",
   "execution_count": 35,
   "id": "3e6cecc9",
   "metadata": {},
   "outputs": [
    {
     "name": "stdout",
     "output_type": "stream",
     "text": [
      "Copied checkpoints:\n",
      "/home/al.thomas/sync/development/data2text/models/f0c02d2aa4704d8ebfaf8f37fbf28176/t2g_model.ptXbest\n",
      "/home/al.thomas/sync/development/data2text/models/f0c02d2aa4704d8ebfaf8f37fbf28176/g2t_model.ptXbest\n",
      "Copied source files:\n",
      "/home/al.thomas/sync/development/data2text/models/f0c02d2aa4704d8ebfaf8f37fbf28176/artifact_code/g2t_model.py\n",
      "/home/al.thomas/sync/development/data2text/models/f0c02d2aa4704d8ebfaf8f37fbf28176/artifact_code/main.py\n",
      "/home/al.thomas/sync/development/data2text/models/f0c02d2aa4704d8ebfaf8f37fbf28176/artifact_code/data.py\n",
      "/home/al.thomas/sync/development/data2text/models/f0c02d2aa4704d8ebfaf8f37fbf28176/artifact_code/config.yaml\n",
      "/home/al.thomas/sync/development/data2text/models/f0c02d2aa4704d8ebfaf8f37fbf28176/artifact_code/tmp_vocab.pt\n",
      "/home/al.thomas/sync/development/data2text/models/f0c02d2aa4704d8ebfaf8f37fbf28176/artifact_code/train.json\n",
      "/home/al.thomas/sync/development/data2text/models/f0c02d2aa4704d8ebfaf8f37fbf28176/artifact_code/dev.json\n",
      "/home/al.thomas/sync/development/data2text/models/f0c02d2aa4704d8ebfaf8f37fbf28176/artifact_code/test.json\n"
     ]
    }
   ],
   "source": [
    "run_id = 'f0c02d2aa4704d8ebfaf8f37fbf28176'\n",
    "artifact_dir = project_dir / f'models/{run_id}'\n",
    "copy_artifacts(run_id,  source_dir='code', source_files=['g2t_model.py', 'main.py', 'data.py', \n",
    "                                                         'config.yaml', 'tmp_vocab.pt', \n",
    "                                                         'train.json', 'dev.json', 'test.json'])"
   ]
  },
  {
   "cell_type": "code",
   "execution_count": 57,
   "id": "0aaa17b7",
   "metadata": {},
   "outputs": [],
   "source": [
    "from artifact_code.g2t_model import GraphWriter\n",
    "from artifact_code.main import prep_data, write_txt\n",
    "from artifact_code.data import batch2tensor_g2t\n",
    "from itertools import islice\n",
    "import copy\n",
    "import yaml\n",
    "import torch"
   ]
  },
  {
   "cell_type": "code",
   "execution_count": 44,
   "id": "a65d3c0a",
   "metadata": {},
   "outputs": [
    {
     "name": "stderr",
     "output_type": "stream",
     "text": [
      "INFO:root:MAX_LEN 31\n",
      "/home/al.thomas/venv_py36/lib64/python3.6/site-packages/dgl/base.py:45: DGLWarning: Recommend creating graphs by `dgl.graph(data)` instead of `dgl.DGLGraph(data)`.\n",
      "  return warnings.warn(message, category=category, stacklevel=1)\n"
     ]
    }
   ],
   "source": [
    "# load data\n",
    "config = yaml.safe_load(open(artifact_dir/'artifact_code/config.yaml', \"r\"))\n",
    "config[\"main\"][\"train_file\"] = str(artifact_dir/'artifact_code/train.json')\n",
    "config[\"main\"][\"dev_file\"] = str(artifact_dir/'artifact_code/dev.json')\n",
    "config[\"main\"][\"test_file\"] = str(artifact_dir/'artifact_code/train.json')\n",
    "pool, vocab = prep_data(config[\"main\"], load=str(artifact_dir/'artifact_code/tmp_vocab.pt'))"
   ]
  },
  {
   "cell_type": "code",
   "execution_count": 45,
   "id": "c6d663e8",
   "metadata": {},
   "outputs": [],
   "source": [
    "# load model\n",
    "model = GraphWriter(copy.deepcopy(config[\"g2t\"]), vocab)"
   ]
  },
  {
   "cell_type": "code",
   "execution_count": 62,
   "id": "2f06f1b4",
   "metadata": {},
   "outputs": [],
   "source": [
    "i = 10\n",
    "batch = next(islice(pool.draw_with_type(batch_size=32, shuffle=False, _type=\"test\"), i, i+1))\n",
    "batch = batch2tensor_g2t(batch, 'cpu', vocab)"
   ]
  },
  {
   "cell_type": "code",
   "execution_count": 63,
   "id": "53955097",
   "metadata": {},
   "outputs": [],
   "source": [
    "seq = model(batch, beam_size=5)\n",
    "pred = write_txt(batch, seq, vocab[\"text\"])\n",
    "target = write_txt(batch, batch[\"tgt\"], vocab[\"text\"])"
   ]
  },
  {
   "cell_type": "code",
   "execution_count": 64,
   "id": "f04d7632",
   "metadata": {},
   "outputs": [
    {
     "data": {
      "text/plain": [
       "([' 8.0   8.0   8.0   8.0   8.0   8.0   8.0   8.0   Andrews County Airport   8.0   8.0   8.0   8.0   8.0   8.0   8.0   8.0   8.0   8.0   8.0   Andrews County Airport   Andrews County Airport   8.0   Andrews County Airport   8.0   8.0   8.0   8.0   8.0   8.0   8.0   8.0   8.0   Andrews County Airport   8.0   8.0   8.0   8.0   8.0   8.0   Andrews County Airport   8.0   8.0   8.0   8.0   8.0   8.0   8.0   8.0 '],\n",
       " [' Andrews County Airport  runway length is  8.0  .'])"
      ]
     },
     "execution_count": 64,
     "metadata": {},
     "output_type": "execute_result"
    }
   ],
   "source": [
    "pred[0], target[0]"
   ]
  },
  {
   "cell_type": "code",
   "execution_count": 65,
   "id": "ee2392e0",
   "metadata": {},
   "outputs": [
    {
     "data": {
      "text/plain": [
       "tensor([   1, 2288, 2288, 2288, 2288, 2288, 2288, 2288, 2288, 2289, 2288, 2288,\n",
       "        2288, 2288, 2288, 2288, 2288, 2288, 2288, 2288, 2288, 2289, 2289, 2288,\n",
       "        2289, 2288, 2288, 2288, 2288, 2288, 2288, 2288, 2288, 2288, 2289, 2288,\n",
       "        2288, 2288, 2288, 2288, 2288, 2289, 2288, 2288, 2288, 2288, 2288, 2288,\n",
       "        2288, 2288,    0])"
      ]
     },
     "execution_count": 65,
     "metadata": {},
     "output_type": "execute_result"
    }
   ],
   "source": [
    "seq[0]"
   ]
  },
  {
   "cell_type": "code",
   "execution_count": null,
   "id": "a049f608",
   "metadata": {},
   "outputs": [],
   "source": []
  }
 ],
 "metadata": {
  "kernelspec": {
   "display_name": "venv_py36",
   "language": "python",
   "name": "venv_py36"
  },
  "language_info": {
   "codemirror_mode": {
    "name": "ipython",
    "version": 3
   },
   "file_extension": ".py",
   "mimetype": "text/x-python",
   "name": "python",
   "nbconvert_exporter": "python",
   "pygments_lexer": "ipython3",
   "version": "3.6.8"
  }
 },
 "nbformat": 4,
 "nbformat_minor": 5
}
